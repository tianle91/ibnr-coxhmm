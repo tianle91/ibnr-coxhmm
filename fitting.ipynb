{
 "cells": [
  {
   "cell_type": "code",
   "execution_count": null,
   "metadata": {},
   "outputs": [],
   "source": [
    "require(doParallel)"
   ]
  },
  {
   "cell_type": "code",
   "execution_count": null,
   "metadata": {},
   "outputs": [],
   "source": [
    "source('01_hmm_fwdbwd.r')\n",
    "source('01_hmm_loglike.r')\n",
    "source('02_hmm_em.r')\n",
    "source('02_shapeisequal.r')\n",
    "source('10_shapesearch.r')\n",
    "source('20_reduction.r')\n",
    "source('30_compno_search.r')\n",
    "source('40_initialization.r')"
   ]
  },
  {
   "cell_type": "code",
   "execution_count": null,
   "metadata": {},
   "outputs": [],
   "source": [
    "load(file = 'dat.RData')"
   ]
  },
  {
   "cell_type": "code",
   "execution_count": null,
   "metadata": {},
   "outputs": [],
   "source": [
    "options(repr.plot.width=6, repr.plot.height=4)\n",
    "par(mfrow=c(1, 2))\n",
    "\n",
    "plot(dat, main='dat', type='l', xlab='t', ylab='counts')\n",
    "plot(dat_scalemodifier, main='scmod', type='l', xlab='t', ylab='')"
   ]
  },
  {
   "cell_type": "code",
   "execution_count": null,
   "metadata": {},
   "outputs": [],
   "source": [
    "nthreads = 2\n",
    "totaljobs = 4\n",
    "minspread = 1\n",
    "maxspread = 100"
   ]
  },
  {
   "cell_type": "code",
   "execution_count": null,
   "metadata": {},
   "outputs": [],
   "source": [
    "base_spreads = as.integer(seq(minspread, maxspread, length=totaljobs))\n",
    "base_shape = 1:4\n",
    "shape_m = base_spreads %*% t(base_shape)\n",
    "print (shape_m)"
   ]
  },
  {
   "cell_type": "code",
   "execution_count": null,
   "metadata": {},
   "outputs": [],
   "source": [
    "worker = function(shape, dat, dat_scalemodifier, verbose = T) {\n",
    "    t0 = proc.time()\n",
    "    empars = empars_ini(shape, dat, dat_scalemodifier)\n",
    "    mc_em_output = mc_em(dat, dat_scalemodifier, empars, verbose = verbose)\n",
    "    out = em_compno_search(mc_em_output, dat, dat_scalemodifier, verbose = verbose)\n",
    "    t1 = proc.time()\n",
    "    \n",
    "    if (verbose) {\n",
    "        cat('shape:', shape, 'done in:', (t1-t0)['elapsed'])\n",
    "    }\n",
    "    \n",
    "    return (out)\n",
    "}"
   ]
  },
  {
   "cell_type": "code",
   "execution_count": null,
   "metadata": {
    "scrolled": true
   },
   "outputs": [],
   "source": [
    "worker(shape_m[1,], dat, dat_scalemodifier)"
   ]
  },
  {
   "cell_type": "code",
   "execution_count": null,
   "metadata": {
    "scrolled": true
   },
   "outputs": [],
   "source": [
    "cl = makePSOCKcluster(nthreads)\n",
    "registerDoParallel(cl)\n",
    "\n",
    "tstart = proc.time()\n",
    "res <- foreach(i = 1:nrow(shape_m),\n",
    "               .inorder = F,\n",
    "               .errorhandling = 'remove',\n",
    "               .export = ls(all.names=T),\n",
    "               .verbose = T) %dopar% { \n",
    "    worker(shape_m[i,], dat, dat_scalemodifier)\n",
    "}\n",
    "\n",
    "print(proc.time()-tstart)\n",
    "stopCluster(cl)"
   ]
  },
  {
   "cell_type": "code",
   "execution_count": null,
   "metadata": {},
   "outputs": [],
   "source": [
    "save(res, file = 'fitres.RData')"
   ]
  },
  {
   "cell_type": "code",
   "execution_count": null,
   "metadata": {},
   "outputs": [],
   "source": [
    "# collect all results from different spreads\n",
    "all_aics = c()\n",
    "all_nstates = c()\n",
    "\n",
    "for (model in res) {\n",
    "    all_aics = c(all_aics, model$aic)\n",
    "    all_nstates = c(all_nstates, length(model$empars$pars_list$shapes))\n",
    "}"
   ]
  },
  {
   "cell_type": "code",
   "execution_count": null,
   "metadata": {},
   "outputs": [],
   "source": [
    "min_aic = min(all_aics)\n",
    "min_aic_dex = which.min(all_aics)\n",
    "cat('min aic is:', min_aic,\n",
    "    'at dex:',     min_aic_dex,\n",
    "    '\\n')"
   ]
  },
  {
   "cell_type": "code",
   "execution_count": null,
   "metadata": {},
   "outputs": [],
   "source": [
    "options(repr.plot.width=6, repr.plot.height=4)\n",
    "par(mfrow=c(1, 2))\n",
    "\n",
    "plot(base_spreads, all_aics, type='b', main='aic', xlab='spread', ylab='')\n",
    "abline(v=base_spreads[min_aic_dex], col='red')\n",
    "plot(base_spreads, all_nstates, type='b', main='nstate', xlab='spread', ylab='')\n",
    "abline(v=base_spreads[min_aic_dex], col='red')"
   ]
  },
  {
   "cell_type": "code",
   "execution_count": null,
   "metadata": {},
   "outputs": [],
   "source": [
    "bestmodel=res[[min_aic_dex]]\n",
    "print (list('iniprob'=bestmodel$empars$mc_iniprob,\n",
    "            'transprob'=bestmodel$empars$mc_transition,\n",
    "            'shapes'=bestmodel$empars$pars_list$shapes,\n",
    "            'scale'=bestmodel$empars$pars_list$scale))"
   ]
  },
  {
   "cell_type": "code",
   "execution_count": null,
   "metadata": {},
   "outputs": [],
   "source": [
    "load('truemodel.RData')\n",
    "print (truemodel)"
   ]
  }
 ],
 "metadata": {
  "kernelspec": {
   "display_name": "R",
   "language": "R",
   "name": "ir"
  },
  "language_info": {
   "codemirror_mode": "r",
   "file_extension": ".r",
   "mimetype": "text/x-r-source",
   "name": "R",
   "pygments_lexer": "r",
   "version": "3.5.2"
  }
 },
 "nbformat": 4,
 "nbformat_minor": 2
}
